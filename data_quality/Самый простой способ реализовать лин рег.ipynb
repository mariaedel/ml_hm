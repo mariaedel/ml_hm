{
 "cells": [
  {
   "cell_type": "code",
   "execution_count": 1,
   "metadata": {},
   "outputs": [],
   "source": [
    "import numpy as np"
   ]
  },
  {
   "cell_type": "code",
   "execution_count": 3,
   "metadata": {},
   "outputs": [],
   "source": [
    "import random"
   ]
  },
  {
   "cell_type": "code",
   "execution_count": 2,
   "metadata": {},
   "outputs": [],
   "source": [
    "# y = 2*x1 + 3*x2 + 4\n",
    "X = np.array([\n",
    "    [1, 1],\n",
    "    [1, 2],\n",
    "    [2, 2],\n",
    "    [3, 4],\n",
    "    [5, 6]\n",
    "])\n",
    "y = np.array([\n",
    "    9,\n",
    "    12,\n",
    "    14,\n",
    "    22,\n",
    "    32\n",
    "])"
   ]
  },
  {
   "cell_type": "code",
   "execution_count": 4,
   "metadata": {},
   "outputs": [],
   "source": [
    "t1, t2, t3 = random.random(), random.random(), random.random()"
   ]
  },
  {
   "cell_type": "code",
   "execution_count": 5,
   "metadata": {},
   "outputs": [],
   "source": [
    "def lin_reg(x1, x2, t1, t2, t3):\n",
    "    return x1*t1 + x2*t2 + t3"
   ]
  },
  {
   "cell_type": "code",
   "execution_count": 6,
   "metadata": {},
   "outputs": [
    {
     "data": {
      "text/plain": [
       "1.4341087335335772"
      ]
     },
     "execution_count": 6,
     "metadata": {},
     "output_type": "execute_result"
    }
   ],
   "source": [
    "lin_reg(X[0,0], X[0,1], t1, t2, t3)"
   ]
  },
  {
   "cell_type": "code",
   "execution_count": 7,
   "metadata": {},
   "outputs": [],
   "source": [
    "def mse_one_example(x1, x2, t1, t2, t3, y):\n",
    "    return (lin_reg(x1, x2, t1, t2, t3) - y) ** 2"
   ]
  },
  {
   "cell_type": "code",
   "execution_count": 8,
   "metadata": {},
   "outputs": [
    {
     "data": {
      "text/plain": [
       "57.242710655992894"
      ]
     },
     "execution_count": 8,
     "metadata": {},
     "output_type": "execute_result"
    }
   ],
   "source": [
    "mse_one_example(X[0,0], X[0,1], t1, t2, t3, y[0])"
   ]
  },
  {
   "cell_type": "code",
   "execution_count": 10,
   "metadata": {},
   "outputs": [],
   "source": [
    "def mse(X, y, t1, t2, t3):\n",
    "    num_of_samples = len(y)\n",
    "    total_mse = 0.\n",
    "    for i in range(num_of_samples):\n",
    "        total_mse += mse_one_example(X[i, 0], X[i, 1], t1, t2, t3, y[i])\n",
    "    return total_mse / num_of_samples"
   ]
  },
  {
   "cell_type": "code",
   "execution_count": 12,
   "metadata": {},
   "outputs": [
    {
     "data": {
      "text/plain": [
       "233.9825936564401"
      ]
     },
     "execution_count": 12,
     "metadata": {},
     "output_type": "execute_result"
    }
   ],
   "source": [
    "mse(X, y, t1, t2, t3)"
   ]
  },
  {
   "cell_type": "code",
   "execution_count": 14,
   "metadata": {},
   "outputs": [],
   "source": [
    "def der_mse_t1(X, y, t1, t2, t3):\n",
    "    num_of_samples = len(y)\n",
    "    total_mse_der = 0.\n",
    "    for i in range(num_of_samples):\n",
    "        total_mse_der += (lin_reg(X[i, 0], X[i, 1], t1, t2, t3) - y[i]) * X[i, 0]\n",
    "    return 2 * total_mse_der / num_of_samples  "
   ]
  },
  {
   "cell_type": "code",
   "execution_count": 15,
   "metadata": {},
   "outputs": [],
   "source": [
    "def der_mse_t2(X, y, t1, t2, t3):\n",
    "    num_of_samples = len(y)\n",
    "    total_mse_der = 0.\n",
    "    for i in range(num_of_samples):\n",
    "        total_mse_der += (lin_reg(X[i, 0], X[i, 1], t1, t2, t3) - y[i]) * X[i, 1]\n",
    "    return 2 * total_mse_der / num_of_samples  "
   ]
  },
  {
   "cell_type": "code",
   "execution_count": 16,
   "metadata": {},
   "outputs": [],
   "source": [
    "def der_mse_t3(X, y, t1, t2, t3):\n",
    "    num_of_samples = len(y)\n",
    "    total_mse_der = 0.\n",
    "    for i in range(num_of_samples):\n",
    "        total_mse_der += (lin_reg(X[i, 0], X[i, 1], t1, t2, t3) - y[i])\n",
    "    return 2 * total_mse_der / num_of_samples  "
   ]
  },
  {
   "cell_type": "code",
   "execution_count": 20,
   "metadata": {},
   "outputs": [],
   "source": [
    "def do_gradiend_update(t1, t2, t3, dt1, dt2, dt3, lr):\n",
    "    return (\n",
    "        t1 - lr * dt1,\n",
    "        t2 - lr * dt2,\n",
    "        t3 - lr * dt3\n",
    "    )"
   ]
  },
  {
   "cell_type": "code",
   "execution_count": 21,
   "metadata": {},
   "outputs": [],
   "source": [
    "def do_gradiend_step(X, y, t1, t2, t3, lr):\n",
    "    dt1 = der_mse_t1(X,y,t1,t2,t3)\n",
    "    dt2 = der_mse_t2(X,y,t1,t2,t3)\n",
    "    dt3 = der_mse_t3(X,y,t1,t2,t3)\n",
    "    \n",
    "    return do_gradiend_update(t1, t2, t3, dt1, dt2, dt3, lr)"
   ]
  },
  {
   "cell_type": "code",
   "execution_count": 52,
   "metadata": {},
   "outputs": [],
   "source": [
    "lr = 0.001"
   ]
  },
  {
   "cell_type": "code",
   "execution_count": 56,
   "metadata": {},
   "outputs": [
    {
     "name": "stdout",
     "output_type": "stream",
     "text": [
      "BEFORE UPDATE.\n",
      "T1: 2.4969107388079412, \n",
      "T2: 3.3307229371525535, \n",
      "T3:0.8922746834381965\n",
      "LOSS: 2.609551771234181\n",
      "\n",
      "GRADIENTS. \n",
      "DT1: -0.4843401303795559, \n",
      "DT2: -0.8372617522128764, \n",
      "DT3:-1.8459414639301688\n",
      "\n",
      "AFTER UPDATE.\n",
      "T1: 2.497395078938321, \n",
      "T2: 3.3315601989047665, \n",
      "T3:0.8941206249021266\n",
      "LOSS: 2.6052440281170335\n"
     ]
    }
   ],
   "source": [
    "print(\"BEFORE UPDATE.\\nT1: {}, \\nT2: {}, \\nT3:{}\".format(t1,t2,t3))\n",
    "print(\"LOSS: {}\".format(mse(X,y,t1,t2,t3)))\n",
    "print(\"\")\n",
    "dt1 = der_mse_t1(X,y,t1,t2,t3)\n",
    "dt2 = der_mse_t2(X,y,t1,t2,t3)\n",
    "dt3 = der_mse_t3(X,y,t1,t2,t3)\n",
    "print(\"GRADIENTS. \\nDT1: {}, \\nDT2: {}, \\nDT3:{}\".format(dt1,dt2,dt3))\n",
    "print(\"\")\n",
    "t1, t2, t3 = do_gradiend_update(t1, t2, t3, dt1, dt2, dt3, lr)\n",
    "print(\"AFTER UPDATE.\\nT1: {}, \\nT2: {}, \\nT3:{}\".format(t1,t2,t3))\n",
    "print(\"LOSS: {}\".format(mse(X,y,t1,t2,t3)))"
   ]
  },
  {
   "cell_type": "code",
   "execution_count": null,
   "metadata": {},
   "outputs": [],
   "source": []
  },
  {
   "cell_type": "code",
   "execution_count": null,
   "metadata": {},
   "outputs": [],
   "source": []
  }
 ],
 "metadata": {
  "kernelspec": {
   "display_name": "Python 3",
   "language": "python",
   "name": "python3"
  },
  "language_info": {
   "codemirror_mode": {
    "name": "ipython",
    "version": 3
   },
   "file_extension": ".py",
   "mimetype": "text/x-python",
   "name": "python",
   "nbconvert_exporter": "python",
   "pygments_lexer": "ipython3",
   "version": "3.7.9"
  }
 },
 "nbformat": 4,
 "nbformat_minor": 4
}
